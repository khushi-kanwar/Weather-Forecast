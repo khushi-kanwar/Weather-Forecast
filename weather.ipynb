{
 "cells": [
  {
   "cell_type": "code",
   "execution_count": 1,
   "id": "b9c4abd3-2c88-4e3d-b743-a4c746467638",
   "metadata": {},
   "outputs": [],
   "source": [
    "api_key='38ae0e96895ba153e00f82bb193b2152'\n",
    "import requests\n"
   ]
  },
  {
   "cell_type": "code",
   "execution_count": null,
   "id": "e46211ef-3a62-4f6d-b52a-11e4a5ff858f",
   "metadata": {},
   "outputs": [
    {
     "name": "stdin",
     "output_type": "stream",
     "text": [
      "Enter City jaipur\n"
     ]
    }
   ],
   "source": [
    "user_input=input(\"Enter City\")\n",
    "weather_data=requests.get(\n",
    "    f\"https://api.openweathermap.org/data/2.5/weather?q={user_input}&units=imperial&APPID={api_key}\")"
   ]
  },
  {
   "cell_type": "code",
   "execution_count": null,
   "id": "a6bc0946-39fd-427c-97c3-ee77a8be6180",
   "metadata": {},
   "outputs": [],
   "source": [
    "if weather_data.json()['cod']=='404':\n",
    "    print(\"City name is not found\")\n",
    "else:\n",
    "    weather=weather_data.json()['weather'][0]['main']\n",
    "    temp=round(weather_data.json()['main']['temp'])    \n",
    "    description = weather_data.json()['weather'][0]['description']\n",
    "    humidity = weather_data.json()['main']['humidity']\n",
    "    wind_speed = weather_data.json()['wind']['speed']\n",
    "    print(f\"The Weather in {user_input} is:{weather}\")\n",
    "    print(f\"The Temperature in {user_input} is:{temp}°C\")\n",
    "    print(f\"The Description in {user_input} is:{description}\")\n",
    "    print(f\"The Humidity in {user_input} is:{humidity}%\")\n",
    "    print(f\"The Wind Speed in {user_input} is:{wind_speed}M/S\")\n"
   ]
  },
  {
   "cell_type": "code",
   "execution_count": null,
   "id": "ddb0b0d6-a9ec-4531-b0f1-0c90b48c4f21",
   "metadata": {},
   "outputs": [],
   "source": [
    "import tkinter as tk\n",
    "import requests\n",
    "\n",
    "def get_weather():\n",
    "    api_key = '38ae0e96895ba153e00f82bb193b2152'\n",
    "    user_input = city_entry.get()\n",
    "    weather_data = requests.get(f\"https://api.openweathermap.org/data/2.5/weather?q={user_input}&units=imperial&APPID={api_key}\")\n",
    "\n",
    "    if weather_data.json()['cod'] == '404':\n",
    "        result_label.config(text=\"City name is not found\")\n",
    "    else:\n",
    "        weather = weather_data.json()['weather'][0]['main']\n",
    "        temp = round(weather_data.json()['main']['temp'])\n",
    "        description = weather_data.json()['weather'][0]['description']\n",
    "        humidity = weather_data.json()['main']['humidity']\n",
    "        wind_speed = weather_data.json()['wind']['speed']\n",
    "        result_label.config(text=f\"The weather in {user_input} is: {weather}\")\n",
    "        temp_label.config(text=f\"The temperature in {user_input} is: {temp}°F\")\n",
    "        description_label.config(text=f\"Description: {description}\")\n",
    "        humidity_label.config(text=f\"Humidity: {humidity}%\")\n",
    "        wind_speed_label.config(text=f\"Wind Speed: {wind_speed} mph\")\n",
    "        \n",
    "\n",
    "root = tk.Tk()\n",
    "root.title(\"Weather App By Randhir\")\n",
    "\n",
    "# Create and configure a frame to organize widgets\n",
    "frame = tk.Frame(root, padx=20, pady=20)\n",
    "frame.pack(padx=10, pady=10)\n",
    "\n",
    "# Create and configure input label and entry\n",
    "city_label = tk.Label(frame, text=\"Enter City:\")\n",
    "city_label.grid(row=0, column=0, padx=10, pady=5)\n",
    "city_entry = tk.Entry(frame)\n",
    "city_entry.grid(row=0, column=1, padx=10, pady=5)\n",
    "\n",
    "# Create and configure the \"Get Weather\" button\n",
    "get_weather_button = tk.Button(frame, text=\"Get Weather\", command=get_weather)\n",
    "get_weather_button.grid(row=0, column=2, padx=10, pady=5)\n",
    "\n",
    "# Create and configure labels for displaying results\n",
    "result_label = tk.Label(frame, text=\"\", font=(\"Helvetica\", 12))\n",
    "result_label.grid(row=1, column=0, columnspan=3, padx=10, pady=10)\n",
    "temp_label = tk.Label(frame, text=\"\", font=(\"Helvetica\", 12))\n",
    "temp_label.grid(row=2, column=0, columnspan=3, padx=10, pady=10)\n",
    "description_label = tk.Label(frame, text=\"\", font=(\"Helvetica\", 12))\n",
    "description_label.grid(row=3, column=0, columnspan=3, padx=10, pady=10)\n",
    "humidity_label = tk.Label(frame, text=\"\", font=(\"Helvetica\", 12))\n",
    "humidity_label.grid(row=4, column=0, columnspan=3, padx=10, pady=10)\n",
    "wind_speed_label = tk.Label(frame, text=\"\", font=(\"Helvetica\", 12))\n",
    "wind_speed_label.grid(row=5, column=0, columnspan=3, padx=10, pady=10)\n",
    "\n",
    "# Start the Tkinter main loop\n",
    "root.mainloop()\n"
   ]
  },
  {
   "cell_type": "code",
   "execution_count": null,
   "id": "c76d1a20-cabd-4b2b-8c0f-32635852c8cf",
   "metadata": {},
   "outputs": [],
   "source": []
  }
 ],
 "metadata": {
  "kernelspec": {
   "display_name": "Python 3 (ipykernel)",
   "language": "python",
   "name": "python3"
  },
  "language_info": {
   "codemirror_mode": {
    "name": "ipython",
    "version": 3
   },
   "file_extension": ".py",
   "mimetype": "text/x-python",
   "name": "python",
   "nbconvert_exporter": "python",
   "pygments_lexer": "ipython3",
   "version": "3.11.7"
  }
 },
 "nbformat": 4,
 "nbformat_minor": 5
}
